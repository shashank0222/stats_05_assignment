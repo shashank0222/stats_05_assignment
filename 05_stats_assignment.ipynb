{
 "cells": [
  {
   "cell_type": "markdown",
   "id": "2e1fae79-c32e-422d-97c5-cc93bf6fa70c",
   "metadata": {},
   "source": [
    "Q1: What is Estimation Statistics? Explain point estimate and interval estimate"
   ]
  },
  {
   "cell_type": "markdown",
   "id": "f982a4ca-9ab2-42dc-9237-7613f80a48d3",
   "metadata": {},
   "source": [
    "Solution"
   ]
  },
  {
   "cell_type": "markdown",
   "id": "92bab7be-939b-49ed-b2b7-435f28461172",
   "metadata": {},
   "source": [
    "Estimation statistics is a branch of statistics that deals with estimating the value of an unknown parameter of a population using sample data.\n",
    "\n",
    "There are two types of estimates in estimation statistics: point estimate and interval estimate.\n",
    "\n",
    "A point estimate is a single value estimate of a parameter. For instance, a sample mean is a point estimate of a population mean.\n",
    "\n",
    "An interval estimate gives you a range of values where the parameter is expected to lie. A confidence interval is the most common type of interval estimate"
   ]
  },
  {
   "cell_type": "code",
   "execution_count": null,
   "id": "bea793f3-fddd-4d80-8172-b25d0fae461a",
   "metadata": {},
   "outputs": [],
   "source": []
  },
  {
   "cell_type": "markdown",
   "id": "ff542f9e-380e-48bb-ab02-2fc2fdd3c479",
   "metadata": {},
   "source": [
    "Q2. Write a Python function to estimate the population mean using a sample mean and standard \n",
    "deviation."
   ]
  },
  {
   "cell_type": "markdown",
   "id": "46a11d3c-7253-4e5a-b0b8-910a4d3557ca",
   "metadata": {},
   "source": [
    "Solution:"
   ]
  },
  {
   "cell_type": "code",
   "execution_count": 1,
   "id": "a6a01624-1d9e-4353-a62d-b615611f5db4",
   "metadata": {},
   "outputs": [],
   "source": [
    "import math\n",
    "from scipy import stats"
   ]
  },
  {
   "cell_type": "markdown",
   "id": "c948462c-54ec-4c61-badc-0ee38453e9f0",
   "metadata": {},
   "source": [
    "# formula  =  x +- z*(population_std/sqrt(n))"
   ]
  },
  {
   "cell_type": "code",
   "execution_count": 87,
   "id": "5c5e6052-7b9f-43d5-9ce1-87a6b994c0c7",
   "metadata": {},
   "outputs": [],
   "source": [
    "#  we construct a confidence interval to estimate the unknown population parameter.\n",
    "#  let us consider the significance value = 0.05(2 - Tails)\n",
    "\n",
    "# significance_value(alpha/2) = 0.025\n",
    "\n",
    "# confidence_interval = 0.95\n",
    "\n",
    "\n",
    "def estimate(x,std,n):  # x : mean , std : sample standard deviation , n : sample size\n",
    "    z = stats.norm.ppf(q=0.9750)\n",
    "    p_std = std/math.sqrt(n)\n",
    "    l_bound = x - z * p_std\n",
    "    u_bound = x + z * p_std\n",
    "    \n",
    "    return (l_bound,u_bound)"
   ]
  },
  {
   "cell_type": "code",
   "execution_count": 88,
   "id": "75667e0f-ed33-4b7f-82d7-3e731c705dce",
   "metadata": {},
   "outputs": [
    {
     "data": {
      "text/plain": [
       "(10.010009003864987, 10.989990996135013)"
      ]
     },
     "execution_count": 88,
     "metadata": {},
     "output_type": "execute_result"
    }
   ],
   "source": [
    "estimate(10.5 , 2.5 , 100)"
   ]
  },
  {
   "cell_type": "code",
   "execution_count": 27,
   "id": "31567c2d-c148-4286-9bc8-c334f9064db3",
   "metadata": {},
   "outputs": [],
   "source": [
    "#  Therefore the population mean will lies between (10.01 , 10.99)"
   ]
  },
  {
   "cell_type": "markdown",
   "id": "dbaab1e9-b9fe-41da-8959-5ae5568ace97",
   "metadata": {},
   "source": [
    "Q3: What is Hypothesis testing? Why is it used? State the importance of Hypothesis testing."
   ]
  },
  {
   "cell_type": "markdown",
   "id": "c5150bd2-6b22-475b-896e-1b6a3e9a1e45",
   "metadata": {},
   "source": [
    "Solution:"
   ]
  },
  {
   "cell_type": "markdown",
   "id": "019095a2-db7d-45f8-bf60-31a805fd521b",
   "metadata": {},
   "source": [
    "Hypothesis testing is a statistical method that helps to determine if something really happened, if certain treatments have positive effects, if groups differ from each other, or if one variable predicts another.\n",
    "\n",
    "Hypothesis testing allows us to make conclusions about an entire population based on a representative sample.\n",
    "\n",
    "It is a form of inferential statistics that evaluates two mutually eclusive statements about a population to determine which statement is best supported by the sample data."
   ]
  },
  {
   "cell_type": "markdown",
   "id": "2df70dbe-d64b-4a72-a64c-59c5b56a2170",
   "metadata": {},
   "source": [
    "# Importance"
   ]
  },
  {
   "cell_type": "markdown",
   "id": "34b47834-7ee2-42f8-a142-972044b32771",
   "metadata": {},
   "source": [
    "The importance of hypothesis testing lies in its ability to help assess the accuracy of new ideas or theories by testing them against data. This allows researchers to determine whether the evidence supports their hypothesis, helping to avoid false claims and conclusions"
   ]
  },
  {
   "cell_type": "code",
   "execution_count": null,
   "id": "e342d439-d45b-4f9b-b20c-64caffa86245",
   "metadata": {},
   "outputs": [],
   "source": []
  },
  {
   "cell_type": "markdown",
   "id": "2fc1e3a6-c48a-4890-a923-8fa0b37b415e",
   "metadata": {},
   "source": [
    "Q4. Create a hypothesis that states whether the average weight of male college students is greater than \n",
    "the average weight of female college students."
   ]
  },
  {
   "cell_type": "markdown",
   "id": "10a8d66f-32b9-4b6f-9734-77187126255e",
   "metadata": {},
   "source": [
    "Solution:  "
   ]
  },
  {
   "cell_type": "markdown",
   "id": "5d28322b-6560-4417-b500-64884933da94",
   "metadata": {},
   "source": [
    "NULL hypothesis(H0) : average weight of male college students is equal to the average weight of female college students.\n",
    "\n",
    "Alternate hypothesis(H1) : average weight of male college students is greater than  the average weight of female college students.\n",
    " \n"
   ]
  },
  {
   "cell_type": "code",
   "execution_count": null,
   "id": "973c2299-a77d-4c97-8c83-95b9a3828cbb",
   "metadata": {},
   "outputs": [],
   "source": []
  },
  {
   "cell_type": "markdown",
   "id": "3bae7b58-65cd-4000-8e0a-833906a5098d",
   "metadata": {},
   "source": [
    "Q5. Write a Python script to conduct a hypothesis test on the difference between two population means, \n",
    "given a sample from each population."
   ]
  },
  {
   "cell_type": "markdown",
   "id": "e8063035-1686-4489-b6ed-587d587c5cc5",
   "metadata": {},
   "source": [
    "Solution:"
   ]
  },
  {
   "cell_type": "code",
   "execution_count": 1,
   "id": "a0d7aa07-361b-4577-b5ab-af550b98951d",
   "metadata": {},
   "outputs": [],
   "source": [
    "from scipy import stats\n",
    "import numpy as np\n"
   ]
  },
  {
   "cell_type": "code",
   "execution_count": 14,
   "id": "40df3bfb-724a-4e0c-8dce-26c0caad59fa",
   "metadata": {},
   "outputs": [],
   "source": [
    "worker1 = [18,19,22,25,27,28,41,45,58,55]\n",
    "worker2 = [14,15,15,17,18,22,25,25,27,34]"
   ]
  },
  {
   "cell_type": "code",
   "execution_count": 15,
   "id": "d8e9feca-2fc7-437b-8a5d-5c5166bfbf4a",
   "metadata": {},
   "outputs": [
    {
     "data": {
      "text/plain": [
       "5.155370177267987"
      ]
     },
     "execution_count": 15,
     "metadata": {},
     "output_type": "execute_result"
    }
   ],
   "source": [
    "f_test = np.var(worker1)/np.var(worker2)\n",
    "\n",
    "f_test\n"
   ]
  },
  {
   "cell_type": "code",
   "execution_count": 20,
   "id": "19cc694e-97ce-4cd3-aa68-cb9e06c7fc36",
   "metadata": {},
   "outputs": [],
   "source": [
    "#  calculating the critical value\n",
    "\n",
    "significance_level=0.05\n",
    "df1 = len(worker1)-1\n",
    "df2 = len(worker2)-1\n",
    "\n",
    "critical_value = stats.f.ppf(q = 1 - 0.05 , dfn = df1 , dfd = df2)"
   ]
  },
  {
   "cell_type": "code",
   "execution_count": 21,
   "id": "3c3bfe82-b05f-44e8-99ac-fd720d7658fe",
   "metadata": {},
   "outputs": [
    {
     "data": {
      "text/plain": [
       "3.178893104458269"
      ]
     },
     "execution_count": 21,
     "metadata": {},
     "output_type": "execute_result"
    }
   ],
   "source": [
    "critical_value"
   ]
  },
  {
   "cell_type": "code",
   "execution_count": 22,
   "id": "98b049a9-3934-4363-8048-c43466d15d9a",
   "metadata": {},
   "outputs": [
    {
     "name": "stdout",
     "output_type": "stream",
     "text": [
      "Reject the null hypothesis \n"
     ]
    }
   ],
   "source": [
    "if f_test>critical_value:\n",
    "    print(\"Reject the null hypothesis \")\n",
    "    \n",
    "else:\n",
    "    print(\"Fail to reject the null hypothesis\")"
   ]
  },
  {
   "cell_type": "code",
   "execution_count": null,
   "id": "bec4f5e6-73c6-4f04-95d4-55554899699a",
   "metadata": {},
   "outputs": [],
   "source": []
  },
  {
   "cell_type": "code",
   "execution_count": null,
   "id": "5c904613-6657-4977-b5f6-5cb744467d4d",
   "metadata": {},
   "outputs": [],
   "source": []
  },
  {
   "cell_type": "markdown",
   "id": "999f09d7-d892-4f8a-89e2-895286015156",
   "metadata": {},
   "source": [
    "Q6: What is a null and alternative hypothesis? Give some examples."
   ]
  },
  {
   "cell_type": "markdown",
   "id": "cae69c8d-cb20-47ea-abb1-d7674cea9de3",
   "metadata": {},
   "source": [
    "Solution:"
   ]
  },
  {
   "cell_type": "markdown",
   "id": "132aed92-9684-4805-a32f-21f615392d77",
   "metadata": {},
   "source": [
    "NULL hypothesis(H0) : \n",
    "\n",
    "In the null hypothesis, there is no relationship between the two variables.\n",
    "\n",
    "A null hypothesis is a statement that assumes something is true and you try to reject it.\n",
    "\n",
    "\n",
    "Alternative Hypothesis(H1):\n",
    "\n",
    "In the alternative hypothesis, there is some relationship between the two variables i.e. They are dependent upon each other.\n",
    "\n",
    "Generally, researchers and scientists try to accept or approve the null hypothesis.\n",
    "\n",
    "examples : \n",
    "\n",
    "NULL hypothesis(H0) : average weight of male college students is equal to the average weight of female college students.\n",
    "\n",
    "Alternate hypothesis(H1) : average weight of male college students is greater than  the average weight of female college students."
   ]
  },
  {
   "cell_type": "code",
   "execution_count": null,
   "id": "9fdca883-b55c-4294-9035-c0e23583d818",
   "metadata": {},
   "outputs": [],
   "source": []
  },
  {
   "cell_type": "markdown",
   "id": "72a21b4e-53c8-42e4-b342-1d04234e85d0",
   "metadata": {},
   "source": [
    "Q7: Write down the steps involved in hypothesis testing."
   ]
  },
  {
   "cell_type": "markdown",
   "id": "5ea75b14-166a-4bcf-97d3-a500ac94cb62",
   "metadata": {},
   "source": [
    "Solution:"
   ]
  },
  {
   "cell_type": "markdown",
   "id": "3add4d41-fb1c-4fb1-996b-b78e3c52535a",
   "metadata": {},
   "source": [
    "State your research hypothesis as a null hypothesis and alternate hypothesis (H0) and (H1).\n",
    "\n",
    "Collect data in a way designed to test the hypothesis.\n",
    "\n",
    "Perform an appropriate statistical test.\n",
    "\n",
    "Decide whether to reject or fail to reject your null hypothesis based on your statistical test result.\n",
    "\n",
    "Interpret your results"
   ]
  },
  {
   "cell_type": "code",
   "execution_count": null,
   "id": "79deb249-460b-43ab-9c50-f4296a633bcc",
   "metadata": {},
   "outputs": [],
   "source": []
  },
  {
   "cell_type": "markdown",
   "id": "515e38b8-0595-4886-b0f8-44990cc8e88e",
   "metadata": {},
   "source": [
    "Q8. Define p-value and explain its significance in hypothesis testing."
   ]
  },
  {
   "cell_type": "markdown",
   "id": "064d92a5-6b42-47bc-8c5e-f297514e04ca",
   "metadata": {},
   "source": [
    "Solution:\n"
   ]
  },
  {
   "cell_type": "markdown",
   "id": "cf7c06e6-a67b-42cc-b52d-21a14812868e",
   "metadata": {},
   "source": [
    "The p-value is a number calculated from a statistical test that describes how likely your results would have occurred if the null hypothesis were true.The p-value is a measure of how much evidence we have against the null hypothesis\n",
    "\n",
    "A p-value less than or equal to your significance level (typically ≤ 0.05) is statistically significant, indicating strong evidence against the null hypothesis. \n",
    "\n",
    "A significant p-value(>.05) means that there is a high chance to get such results, i.e., there is nothing unusual in the value we received, and we have no evidence against our null hypothesis.\n",
    "\n",
    "A small p-value, on the other hand, is evidence against the null hypothesis"
   ]
  },
  {
   "attachments": {
    "afe8903e-d3e7-41e4-8a89-40690013be01.png": {
     "image/png": "[encoded data removed]"
    }
   },
   "cell_type": "markdown",
   "id": "f04c661f-3fb0-4a5f-848f-91d2f0aac168",
   "metadata": {},
   "source": [
    "![image.png](attachment:afe8903e-d3e7-41e4-8a89-40690013be01.png)"
   ]
  },
  {
   "cell_type": "code",
   "execution_count": null,
   "id": "5eeda0dc-cb5e-4818-833e-5965cd188331",
   "metadata": {},
   "outputs": [],
   "source": []
  },
  {
   "cell_type": "markdown",
   "id": "1fb9568e-35fa-4cb8-a1b1-cfc06079b9cd",
   "metadata": {},
   "source": [
    "Q9. Generate a Student's t-distribution plot using Python's matplotlib library, with the degrees of freedom \n",
    "parameter set to 10."
   ]
  },
  {
   "cell_type": "markdown",
   "id": "66525a70-090b-4d49-bff2-6a7e993900aa",
   "metadata": {},
   "source": [
    "Solution:"
   ]
  },
  {
   "cell_type": "code",
   "execution_count": 2,
   "id": "b3d47660-aa25-4c5f-a69f-be3a30dc7f7c",
   "metadata": {},
   "outputs": [],
   "source": [
    "import matplotlib.pyplot as plt\n",
    "from scipy import stats\n",
    "import numpy as np"
   ]
  },
  {
   "cell_type": "code",
   "execution_count": 18,
   "id": "8d25c022-fa0c-4955-bb97-405f9a9d88a0",
   "metadata": {},
   "outputs": [],
   "source": [
    "df = 10\n",
    "\n"
   ]
  },
  {
   "cell_type": "code",
   "execution_count": 14,
   "id": "5915f6ca-bff2-47da-a30e-ac32efe5de3d",
   "metadata": {},
   "outputs": [],
   "source": [
    "x = np.linspace(-5,5,1000)"
   ]
  },
  {
   "cell_type": "code",
   "execution_count": 16,
   "id": "2509ec6b-b09d-4577-a59f-66bcd1c82d0b",
   "metadata": {},
   "outputs": [],
   "source": [
    "y = stats.t.pdf(x,df)"
   ]
  },
  {
   "cell_type": "code",
   "execution_count": 17,
   "id": "6cd9c4f3-e3ee-4a4a-b488-5f29d7d4a8e1",
   "metadata": {},
   "outputs": [
    {
     "data": {
      "image/png": "[encoded data removed]",
      "text/plain": [
       "<Figure size 640x480 with 1 Axes>"
      ]
     },
     "metadata": {},
     "output_type": "display_data"
    }
   ],
   "source": [
    "plt.plot(x,y)\n",
    "plt.xlabel('x')\n",
    "plt.ylabel('pdf')\n",
    "plt.show()"
   ]
  },
  {
   "cell_type": "code",
   "execution_count": null,
   "id": "fc3168e6-88e2-4dd6-b98f-e7982871dd6a",
   "metadata": {},
   "outputs": [],
   "source": []
  },
  {
   "cell_type": "markdown",
   "id": "2cd3712d-15a7-4617-9fb4-f72193d27d7b",
   "metadata": {},
   "source": [
    "Q10. Write a Python program to calculate the two-sample t-test for independent samples, given two \n",
    "random samples of equal size and a null hypothesis that the population means are equal."
   ]
  },
  {
   "cell_type": "markdown",
   "id": "b233222f-101a-4cbc-9d24-8efe62e4938f",
   "metadata": {},
   "source": [
    "Solution:"
   ]
  },
  {
   "cell_type": "markdown",
   "id": "ea5c921a-e616-4464-ab23-cfd14eb31471",
   "metadata": {},
   "source": [
    "Assumtions of two sample t test:\n",
    "    \n",
    "1. The observations in each sample are independent of each other.\n",
    "\n",
    "2. The data in each sample are approximately normally distributed.\n",
    "\n",
    "3. The variances of the two samples are equal or homogeneous"
   ]
  },
  {
   "cell_type": "code",
   "execution_count": 81,
   "id": "3843b148-39f6-45ec-ae84-01ff2d65c313",
   "metadata": {},
   "outputs": [],
   "source": [
    "s1 = [1,2,3,4,5]\n",
    "s2 = [6,7,8,9,10]\n",
    "significance_value = 0.05"
   ]
  },
  {
   "cell_type": "code",
   "execution_count": 56,
   "id": "e0edb89e-a114-4e1e-b93c-d3c4fc288a3b",
   "metadata": {},
   "outputs": [
    {
     "data": {
      "text/plain": [
       "2.0"
      ]
     },
     "execution_count": 56,
     "metadata": {},
     "output_type": "execute_result"
    }
   ],
   "source": [
    "np.var(s1)"
   ]
  },
  {
   "cell_type": "code",
   "execution_count": 57,
   "id": "9d1afa30-3a80-4a12-a717-d12bd84c0fa8",
   "metadata": {},
   "outputs": [
    {
     "data": {
      "text/plain": [
       "2.0"
      ]
     },
     "execution_count": 57,
     "metadata": {},
     "output_type": "execute_result"
    }
   ],
   "source": [
    "np.var(s2)"
   ]
  },
  {
   "cell_type": "code",
   "execution_count": 58,
   "id": "922145ef-a4bb-485d-86cf-d97161172fd5",
   "metadata": {},
   "outputs": [],
   "source": [
    "t_statistic , p_value = stats.ttest_ind(s1,s2)"
   ]
  },
  {
   "cell_type": "code",
   "execution_count": 59,
   "id": "7af5042d-6e44-4c13-83b7-1d99cb887b4e",
   "metadata": {},
   "outputs": [
    {
     "data": {
      "text/plain": [
       "-5.0"
      ]
     },
     "execution_count": 59,
     "metadata": {},
     "output_type": "execute_result"
    }
   ],
   "source": [
    "t_statistic"
   ]
  },
  {
   "cell_type": "code",
   "execution_count": 60,
   "id": "4ac7cd8b-0c70-46eb-b63e-073bde7f44eb",
   "metadata": {},
   "outputs": [
    {
     "data": {
      "text/plain": [
       "0.001052825793366539"
      ]
     },
     "execution_count": 60,
     "metadata": {},
     "output_type": "execute_result"
    }
   ],
   "source": [
    "p_value"
   ]
  },
  {
   "cell_type": "code",
   "execution_count": 80,
   "id": "2e5ed46a-7854-4a04-85c7-0fb48e14c078",
   "metadata": {},
   "outputs": [],
   "source": [
    "#  while calculating critical value\n",
    "\n",
    "# for left-tailed, we use q = significance_value\n",
    "\n",
    "# for right-tailed ,we use q = 1-significance_value\n",
    "\n",
    "# for two-tailed , we use q = (1-significance_value)/2\n"
   ]
  },
  {
   "cell_type": "code",
   "execution_count": 82,
   "id": "9d4623ef-ed19-47ca-880e-355d2714b37e",
   "metadata": {},
   "outputs": [
    {
     "name": "stdout",
     "output_type": "stream",
     "text": [
      "Reject the null hypothesis\n"
     ]
    }
   ],
   "source": [
    "if p_value < significance_value:\n",
    "    print(\"Reject the null hypothesis\")\n",
    "    \n",
    "else:\n",
    "    print(\"Fail  to reject the null hypothesis\")"
   ]
  },
  {
   "cell_type": "code",
   "execution_count": null,
   "id": "495d6ec6-950a-4df8-b509-d2ab57359332",
   "metadata": {},
   "outputs": [],
   "source": []
  },
  {
   "cell_type": "markdown",
   "id": "9f49ff8f-bb05-407a-94fd-3cb31481ca27",
   "metadata": {},
   "source": [
    "Q11: What is Student’s t distribution? When to use the t-Distribution."
   ]
  },
  {
   "cell_type": "markdown",
   "id": "847407b8-110a-4a4a-8574-32c6e73f4d53",
   "metadata": {},
   "source": [
    "Solution:"
   ]
  },
  {
   "cell_type": "markdown",
   "id": "ad6ec9ef-56b9-4378-b581-5eb58b786c93",
   "metadata": {},
   "source": [
    "Student’s t-distribution is a continuous probability distribution that generalizes the standard normal distribution. It is used in statistics for making inferences about the population mean when the sample size is small or when the population standard deviation is unknown. \n",
    "\n",
    "\n",
    "The Student t-Distribution is used when:\n",
    "\n",
    "The sample size is small (usually less than 30).\n",
    "\n",
    "The population standard deviation is unknown.\n",
    "\n",
    "The population is assumed to be normally distributed.\n",
    "\n",
    "The goal is to make inferences about the population mean, such as testing the difference between two sample means, constructing confidence intervals, or performing linear regression analysis"
   ]
  },
  {
   "cell_type": "code",
   "execution_count": null,
   "id": "74362d3c-ee47-457d-b937-cac103a763f8",
   "metadata": {},
   "outputs": [],
   "source": []
  },
  {
   "cell_type": "markdown",
   "id": "d6a801c6-0979-400e-a46e-db7bd5d96f38",
   "metadata": {},
   "source": [
    "Q12: What is t-statistic? State the formula for t-statistic."
   ]
  },
  {
   "cell_type": "markdown",
   "id": "6d691589-6739-4bfe-a97a-8b1ee8632b6d",
   "metadata": {},
   "source": [
    "Solution:"
   ]
  },
  {
   "cell_type": "markdown",
   "id": "dc540a01-20ed-4bf8-81f1-deb02f83b187",
   "metadata": {},
   "source": [
    "The t-statistic is a measure of the difference between the means of two groups of data. It is used to determine whether there is a significant difference between the means of two groups. \n",
    "\n",
    "The formula for the t-statistic depends on the type of t-test being performed. For example, the formula for the two-sample t-test for independent samples is:\n",
    "\n",
    "t = (x1 - x2) / (s * sqrt(2/n))\n",
    "\n",
    "where x1 and x2 are the means of the two samples, s is the pooled standard deviation of the two samples, n is the sample size, and sqrt is the square root function.\n",
    "\n",
    "The formula for the one-sample t-test is :\n",
    "\n",
    "t =  (x - u)/(s/sqrt(n))\n",
    "\n",
    "where x  is the sample mean and u is the population mean . s is sample std deviation\n",
    "     "
   ]
  },
  {
   "cell_type": "code",
   "execution_count": null,
   "id": "47cab4ce-e761-4b85-8dc5-a4a1d5140122",
   "metadata": {},
   "outputs": [],
   "source": []
  },
  {
   "cell_type": "markdown",
   "id": "7efa9ec0-5f65-405d-92a0-0d62736c30af",
   "metadata": {},
   "source": [
    "Q13. A coffee shop owner wants to estimate the average daily revenue for their shop. They take a random \n",
    "sample of 50 days and find the sample mean revenue to be $500 with a standard deviation of $50. \n",
    "Estimate the population mean revenue with a 95% confidence interval."
   ]
  },
  {
   "cell_type": "markdown",
   "id": "7b9f7b9a-713b-4de4-a863-c2c2eb175268",
   "metadata": {},
   "source": [
    "Solution:"
   ]
  },
  {
   "cell_type": "code",
   "execution_count": 90,
   "id": "2fc44576-d3ff-4b84-b8c3-d94bfdd2672f",
   "metadata": {},
   "outputs": [],
   "source": [
    "n = 50\n",
    "\n",
    "u = 500\n",
    "\n",
    "std = 50\n",
    "\n",
    "confidence_interval = 0.95\n",
    "\n",
    "z = stats.norm.ppf(q = 0.9750)\n"
   ]
  },
  {
   "cell_type": "code",
   "execution_count": 91,
   "id": "7c38c901-0b42-40ae-a43e-b3a9c6d2412f",
   "metadata": {},
   "outputs": [
    {
     "data": {
      "text/plain": [
       "1.959963984540054"
      ]
     },
     "execution_count": 91,
     "metadata": {},
     "output_type": "execute_result"
    }
   ],
   "source": [
    "z"
   ]
  },
  {
   "cell_type": "code",
   "execution_count": 93,
   "id": "d09ac90e-bb8a-44ee-860f-561366795d3d",
   "metadata": {},
   "outputs": [],
   "source": [
    "lower_bound = u - z*(std/(n)**0.5)\n",
    "upper_bound = u + z*(std/(n)**0.5)"
   ]
  },
  {
   "cell_type": "code",
   "execution_count": 94,
   "id": "e7c99eae-4885-4e16-a71e-3af5bcdbccaa",
   "metadata": {},
   "outputs": [
    {
     "name": "stdout",
     "output_type": "stream",
     "text": [
      "486.1409617565032 513.8590382434968\n"
     ]
    }
   ],
   "source": [
    "print(lower_bound,upper_bound)"
   ]
  },
  {
   "cell_type": "code",
   "execution_count": null,
   "id": "e6e01fea-607e-4c49-b067-59666530933c",
   "metadata": {},
   "outputs": [],
   "source": []
  },
  {
   "cell_type": "markdown",
   "id": "4435e724-fa76-4743-9dbc-615923821f28",
   "metadata": {},
   "source": [
    "Q14. A researcher hypothesizes that a new drug will decrease blood pressure by 10 mmHg. They conduct a \n",
    "clinical trial with 100 patients and find that the sample mean decrease in blood pressure is 8 mmHg with a \n",
    "standard deviation of 3 mmHg. Test the hypothesis with a significance level of 0.05."
   ]
  },
  {
   "cell_type": "markdown",
   "id": "2a02ab97-c63f-4f99-8048-ce2226b1cada",
   "metadata": {},
   "source": [
    "Solution:"
   ]
  },
  {
   "cell_type": "code",
   "execution_count": 95,
   "id": "0dd30313-0a86-45c2-b5b3-3fbbcae1a7ea",
   "metadata": {},
   "outputs": [],
   "source": [
    "# t-test\n",
    "\n",
    "# H0 : u = 10\n",
    "\n",
    "# H1 :  u != 10"
   ]
  },
  {
   "cell_type": "code",
   "execution_count": 12,
   "id": "755a147d-87e4-4b43-b15b-48e417f5cc2d",
   "metadata": {},
   "outputs": [],
   "source": [
    "n = 100\n",
    "significance_level = 0.05\n",
    "sample_mean = 8\n",
    "sample_std = 3\n",
    "pop_mean = 10\n",
    "dof = n-1"
   ]
  },
  {
   "cell_type": "code",
   "execution_count": 18,
   "id": "0234141d-0bbe-4d75-a563-a71cd24d0081",
   "metadata": {},
   "outputs": [],
   "source": [
    "# critical value\n",
    "\n",
    "critical_value = stats.t.ppf(q = 1-significance_level/2 , df = dof)"
   ]
  },
  {
   "cell_type": "code",
   "execution_count": 23,
   "id": "d9e3f142-4c59-4db9-9d34-736da5020b59",
   "metadata": {},
   "outputs": [],
   "source": [
    "# t_statistic \n",
    "\n",
    "t = (pop_mean - sample_mean)/(sample_std/math.sqrt(n))"
   ]
  },
  {
   "cell_type": "code",
   "execution_count": 24,
   "id": "f7aab1d0-5ac4-44fc-9906-f186dcbfd517",
   "metadata": {},
   "outputs": [
    {
     "data": {
      "text/plain": [
       "6.666666666666667"
      ]
     },
     "execution_count": 24,
     "metadata": {},
     "output_type": "execute_result"
    }
   ],
   "source": [
    "t"
   ]
  },
  {
   "cell_type": "code",
   "execution_count": 25,
   "id": "33bb236f-5c59-4480-a086-18860b88f8b9",
   "metadata": {},
   "outputs": [
    {
     "name": "stdout",
     "output_type": "stream",
     "text": [
      "Null hypothesis rejected\n"
     ]
    }
   ],
   "source": [
    "if t > critical_value or t < -(critical_value):\n",
    "    print(\"Null hypothesis rejected\")\n",
    "    \n",
    "else:\n",
    "    print(\"Fail to reject null hypothesis\")"
   ]
  },
  {
   "cell_type": "code",
   "execution_count": null,
   "id": "9c0c7b0d-15a0-4a64-b20a-29794bd6160f",
   "metadata": {},
   "outputs": [],
   "source": []
  },
  {
   "cell_type": "markdown",
   "id": "7c2f5af1-d338-422e-b59c-ad37e1577c3a",
   "metadata": {},
   "source": [
    "Q15. An electronics company produces a certain type of product with a mean weight of 5 pounds and a \n",
    "standard deviation of 0.5 pounds. A random sample of 25 products is taken, and the sample mean weight \n",
    "is found to be 4.8 pounds. Test the hypothesis that the true mean weight of the products is less than 5 \n",
    "pounds with a significance level of 0.01."
   ]
  },
  {
   "cell_type": "markdown",
   "id": "1c7dc5d8-5f3d-4738-a2e2-4856383d6a51",
   "metadata": {},
   "source": [
    "Solution:"
   ]
  },
  {
   "cell_type": "code",
   "execution_count": 2,
   "id": "72b197b3-fc53-4cc2-a0fe-c24c93ff1f06",
   "metadata": {},
   "outputs": [],
   "source": [
    "pop_mean = 5\n",
    "pop_std = 0.5\n",
    "sam_size = 25\n",
    "sam_mean = 4.8 \n",
    "sig_level = 0.01\n"
   ]
  },
  {
   "cell_type": "code",
   "execution_count": null,
   "id": "3507c255-83ae-4a64-a531-4b276d5103d5",
   "metadata": {},
   "outputs": [],
   "source": []
  },
  {
   "cell_type": "code",
   "execution_count": 4,
   "id": "24d5e9cc-f2b1-4a48-9d5b-e740face8310",
   "metadata": {},
   "outputs": [],
   "source": [
    "#  z test \n",
    "\n",
    "# H0 :  u = 5\n",
    "\n",
    "# H1 : u < 5"
   ]
  },
  {
   "cell_type": "code",
   "execution_count": 10,
   "id": "cb5c3142-04a6-4c4a-a9ed-278f5972c494",
   "metadata": {},
   "outputs": [],
   "source": [
    "z_statistic = (4.8-5)/(0.5/(25**0.5))"
   ]
  },
  {
   "cell_type": "code",
   "execution_count": 11,
   "id": "d8344f68-acc1-4c72-b552-44563edfe3b0",
   "metadata": {},
   "outputs": [
    {
     "data": {
      "text/plain": [
       "-2.0000000000000018"
      ]
     },
     "execution_count": 11,
     "metadata": {},
     "output_type": "execute_result"
    }
   ],
   "source": [
    "z_statistic"
   ]
  },
  {
   "cell_type": "code",
   "execution_count": 15,
   "id": "79eb553d-c589-4ac3-92d1-2a2945e1db78",
   "metadata": {},
   "outputs": [],
   "source": [
    "critical_value = stats.norm.ppf(q=1-0.01)"
   ]
  },
  {
   "cell_type": "code",
   "execution_count": 16,
   "id": "9cd9bdbd-0d59-488c-acb4-827a632b9353",
   "metadata": {},
   "outputs": [
    {
     "data": {
      "text/plain": [
       "2.3263478740408408"
      ]
     },
     "execution_count": 16,
     "metadata": {},
     "output_type": "execute_result"
    }
   ],
   "source": [
    "critical_value"
   ]
  },
  {
   "cell_type": "code",
   "execution_count": 17,
   "id": "025c9aef-8de1-4a64-b823-f0d1cff2731c",
   "metadata": {},
   "outputs": [
    {
     "name": "stdout",
     "output_type": "stream",
     "text": [
      "NUll hypothesis rejected\n"
     ]
    }
   ],
   "source": [
    "if z_statistic > critical_value : \n",
    "    print(\"Null hypothesis accepted\")\n",
    "    \n",
    "else:\n",
    "    print(\"NUll hypothesis rejected\")"
   ]
  },
  {
   "cell_type": "code",
   "execution_count": 23,
   "id": "d89b6e48-10ae-4f66-8727-f8f34f4ea910",
   "metadata": {},
   "outputs": [],
   "source": []
  },
  {
   "cell_type": "markdown",
   "id": "9b6a1ee2-45b1-427f-98a7-b7909bd47f8d",
   "metadata": {},
   "source": [
    "Q16. Two groups of students are given different study materials to prepare for a test. The first group (n1 = \n",
    "30) has a mean score of 80 with a standard deviation of 10, and the second group (n2 = 40) has a mean \n",
    "score of 75 with a standard deviation of 8. Test the hypothesis that the population means for the two \n",
    "groups are equal with a significance level of 0.01."
   ]
  },
  {
   "cell_type": "markdown",
   "id": "effaf7f8-38c5-436a-9a64-3fbf42c683e1",
   "metadata": {},
   "source": [
    "SOlution:"
   ]
  },
  {
   "cell_type": "code",
   "execution_count": 29,
   "id": "2eaaa050-6e99-49d8-9ee8-692a53cce045",
   "metadata": {},
   "outputs": [],
   "source": [
    "n1 = 30\n",
    "mean1 = 80\n",
    "std1 = 10\n",
    "dof1 = 29\n",
    "\n",
    "n2 = 40\n",
    "mean2 = 75\n",
    "std2 = 8\n",
    "dof2 = 39\n",
    "\n",
    "sig_level = 0.01"
   ]
  },
  {
   "cell_type": "code",
   "execution_count": 30,
   "id": "76c2e567-0450-47db-97d0-12b646c61b2b",
   "metadata": {},
   "outputs": [],
   "source": [
    "critical_value = stats.f.ppf(q= 1-0.01 , dfn = dof1 , dfd = dof2)"
   ]
  },
  {
   "cell_type": "code",
   "execution_count": 31,
   "id": "11dad35b-f4b3-4212-9e23-a9451000152d",
   "metadata": {},
   "outputs": [
    {
     "data": {
      "text/plain": [
       "2.2290359487890443"
      ]
     },
     "execution_count": 31,
     "metadata": {},
     "output_type": "execute_result"
    }
   ],
   "source": [
    "critical_value"
   ]
  },
  {
   "cell_type": "code",
   "execution_count": 35,
   "id": "cca16f43-48c3-4097-a9a9-89feaedb887d",
   "metadata": {},
   "outputs": [],
   "source": [
    "f_stats =  (std1**2) / (std2**2)"
   ]
  },
  {
   "cell_type": "code",
   "execution_count": 36,
   "id": "ad0b956e-51c9-4da1-a028-101811159829",
   "metadata": {},
   "outputs": [
    {
     "data": {
      "text/plain": [
       "1.5625"
      ]
     },
     "execution_count": 36,
     "metadata": {},
     "output_type": "execute_result"
    }
   ],
   "source": [
    "f_stats"
   ]
  },
  {
   "cell_type": "code",
   "execution_count": 34,
   "id": "ac49ea51-2718-46a6-8955-5d1bd5b27ae7",
   "metadata": {},
   "outputs": [
    {
     "name": "stdout",
     "output_type": "stream",
     "text": [
      "null hypothesis accepted\n"
     ]
    }
   ],
   "source": [
    "if f_stats > critical_value:\n",
    "    print(\"null hypothesis rejected\")\n",
    "    \n",
    "else:\n",
    "    print(\"null hypothesis accepted\")"
   ]
  },
  {
   "cell_type": "code",
   "execution_count": null,
   "id": "dad0064c-1ffc-42b8-9570-5b69caab5a36",
   "metadata": {},
   "outputs": [],
   "source": []
  },
  {
   "cell_type": "markdown",
   "id": "bf21588f-e2f5-44a5-a0e8-36b3a37c638f",
   "metadata": {},
   "source": [
    "Q17. A marketing company wants to estimate the average number of ads watched by viewers during a TV \n",
    "program. They take a random sample of 50 viewers and find that the sample mean is 4 with a standard \n",
    "deviation of 1.5. Estimate the population mean with a 99% confidence interval."
   ]
  },
  {
   "cell_type": "markdown",
   "id": "73d1f4ea-54c3-47ce-a53c-d602fa05fddc",
   "metadata": {},
   "source": [
    "Solution:"
   ]
  },
  {
   "cell_type": "code",
   "execution_count": 19,
   "id": "ceea182f-2319-49ff-86c3-2471bc53971a",
   "metadata": {},
   "outputs": [],
   "source": [
    "n = 50\n",
    "sam_mean = 4\n",
    "sam_std = 1.5\n",
    "\n",
    "sig_level = 0.01\n",
    "\n",
    "dof = 49"
   ]
  },
  {
   "cell_type": "code",
   "execution_count": 28,
   "id": "07e8d09e-02c4-4092-985f-755019c88d81",
   "metadata": {},
   "outputs": [],
   "source": [
    "# critical_value\n",
    "\n",
    "z = stats.t.ppf(1-0.01/2,df = dof)"
   ]
  },
  {
   "cell_type": "code",
   "execution_count": 29,
   "id": "e07d9b20-4bb6-4e5a-aa85-a5d31b1c9d53",
   "metadata": {},
   "outputs": [
    {
     "data": {
      "text/plain": [
       "2.67995197363155"
      ]
     },
     "execution_count": 29,
     "metadata": {},
     "output_type": "execute_result"
    }
   ],
   "source": [
    "z\n"
   ]
  },
  {
   "cell_type": "code",
   "execution_count": 22,
   "id": "8b37b027-6911-430a-b460-c2424d9c62c6",
   "metadata": {},
   "outputs": [],
   "source": [
    "import math\n",
    "\n",
    "def estimate(x,std,n):  # x : mean , std : sample standard deviation , n : sample size\n",
    "    \n",
    "    p_std = std/math.sqrt(n)\n",
    "    l_bound = x - z * p_std\n",
    "    u_bound = x + z * p_std\n",
    "    \n",
    "    return (l_bound,u_bound)"
   ]
  },
  {
   "cell_type": "code",
   "execution_count": 23,
   "id": "3c0c4b25-af36-4f15-9473-8858ae13f940",
   "metadata": {},
   "outputs": [
    {
     "data": {
      "text/plain": [
       "(3.4314963358572577, 4.568503664142742)"
      ]
     },
     "execution_count": 23,
     "metadata": {},
     "output_type": "execute_result"
    }
   ],
   "source": [
    "estimate(sam_mean,sam_std,n)"
   ]
  },
  {
   "cell_type": "code",
   "execution_count": null,
   "id": "6c6cf5b1-9e79-4cc3-837d-944bc41a617c",
   "metadata": {},
   "outputs": [],
   "source": []
  }
 ],
 "metadata": {
  "kernelspec": {
   "display_name": "Python 3 (ipykernel)",
   "language": "python",
   "name": "python3"
  },
  "language_info": {
   "codemirror_mode": {
    "name": "ipython",
    "version": 3
   },
   "file_extension": ".py",
   "mimetype": "text/x-python",
   "name": "python",
   "nbconvert_exporter": "python",
   "pygments_lexer": "ipython3",
   "version": "3.10.8"
  }
 },
 "nbformat": 4,
 "nbformat_minor": 5
}
